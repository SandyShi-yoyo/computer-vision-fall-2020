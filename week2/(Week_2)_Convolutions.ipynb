{
  "nbformat": 4,
  "nbformat_minor": 0,
  "metadata": {
    "colab": {
      "name": "(Week 2) Convolutions.ipynb",
      "provenance": []
    },
    "kernelspec": {
      "name": "python3",
      "display_name": "Python 3"
    }
  },
  "cells": [
    {
      "cell_type": "code",
      "metadata": {
        "id": "XZBLjVlNlgox",
        "colab_type": "code",
        "colab": {}
      },
      "source": [
        "%matplotlib inline\n",
        "import matplotlib.pyplot as plt\n",
        "import numpy as np"
      ],
      "execution_count": 179,
      "outputs": []
    },
    {
      "cell_type": "markdown",
      "metadata": {
        "id": "fYEMDOkjnmrO",
        "colab_type": "text"
      },
      "source": [
        "### Read this First\n",
        "\n",
        "#### Remember that `tab` is is useful for autocompletion.\n",
        "\n",
        "#### Remember that `shift + tab` is useful for rapidly obtaining usage + documentation."
      ]
    },
    {
      "cell_type": "markdown",
      "metadata": {
        "id": "WRodsSgwn6VQ",
        "colab_type": "text"
      },
      "source": [
        "### **Convolutions in 1D**"
      ]
    },
    {
      "cell_type": "markdown",
      "metadata": {
        "id": "eXWB_APFoAlM",
        "colab_type": "text"
      },
      "source": [
        "**We learnt about the convolution operation in lecture, and now it's time you implemented your own convolution operation, and explore some of its properties.**"
      ]
    },
    {
      "cell_type": "markdown",
      "metadata": {
        "id": "HQ87hOmhpwjT",
        "colab_type": "text"
      },
      "source": [
        "**Before we try and write our own simple convolution function, let's see an example using numpy. Create two random 1D numpy arrays called f and h, of length 10 and 3, with integer values ranging between 0 and 9 (inclusive). Print them.**"
      ]
    },
    {
      "cell_type": "code",
      "metadata": {
        "id": "rU-1T_NHp_Qk",
        "colab_type": "code",
        "colab": {}
      },
      "source": [
        ""
      ],
      "execution_count": 179,
      "outputs": []
    },
    {
      "cell_type": "markdown",
      "metadata": {
        "id": "lC_lJWZtqqZ7",
        "colab_type": "text"
      },
      "source": [
        "**We can then use numpy's convolution operation to perform a simple convolution. Please use numpy.convolve to perform the operation f∗h. Make sure that you set the mode of the convolve operation to 'valid'. Print the result and the shape of the result.**"
      ]
    },
    {
      "cell_type": "code",
      "metadata": {
        "id": "XM5v1tZzq_7l",
        "colab_type": "code",
        "colab": {}
      },
      "source": [
        ""
      ],
      "execution_count": 179,
      "outputs": []
    },
    {
      "cell_type": "markdown",
      "metadata": {
        "id": "Y18Pg5arrL-F",
        "colab_type": "text"
      },
      "source": [
        "**Is the shape what you expected? Why is this the shape of the resulting array?**"
      ]
    },
    {
      "cell_type": "markdown",
      "metadata": {
        "id": "fYEf7kdfrVr5",
        "colab_type": "text"
      },
      "source": [
        ""
      ]
    },
    {
      "cell_type": "markdown",
      "metadata": {
        "id": "RAytt6ri5f7E",
        "colab_type": "text"
      },
      "source": [
        "**Perform the operation f∗h again using numpy's convolve function, but this time without the mode argument. Print the resulting signal and the shape.**"
      ]
    },
    {
      "cell_type": "code",
      "metadata": {
        "id": "difUAAAk6Avj",
        "colab_type": "code",
        "colab": {}
      },
      "source": [
        ""
      ],
      "execution_count": 179,
      "outputs": []
    },
    {
      "cell_type": "markdown",
      "metadata": {
        "id": "yB_y1pep6NId",
        "colab_type": "text"
      },
      "source": [
        "**Notice that the shape is different now, and it is larger than f or h. Why is this so?**"
      ]
    },
    {
      "cell_type": "markdown",
      "metadata": {
        "id": "9WrubO0V6VIZ",
        "colab_type": "text"
      },
      "source": [
        ""
      ]
    },
    {
      "cell_type": "markdown",
      "metadata": {
        "id": "ogiYqc7zra3r",
        "colab_type": "text"
      },
      "source": [
        "**Now that we've been able to use numpy's convolution function to convolve two signals, let's implement our own. Implement the convolution_1D function below by filling in the indices to signal and kernel, to perform the same operation that numpy.convolve does with the default mode. Make sure that the output is what is expected.**"
      ]
    },
    {
      "cell_type": "code",
      "metadata": {
        "id": "KtYUueiaoVnT",
        "colab_type": "code",
        "colab": {}
      },
      "source": [
        "def convolution_1D(signal, kernel):\n",
        "  \"\"\" Performs the convolution operation f ∗ h.\n",
        "      Args: \n",
        "          f: A 1D numpy array with length [n]\n",
        "          h: A 1D numpy array with length [m]\n",
        "  \"\"\"\n",
        "\n",
        "  total_len = len(signal) + len(kernel) - 1\n",
        "  result = np.zeros(total_len)\n",
        "\n",
        "  for n in range(total_len):\n",
        "    \n",
        "    # For indexing to make sure that we only care about overlaps in range\n",
        "    kmin = max(0, n - (len(kernel) - 1))\n",
        "    kmax = min(n, len(signal) - 1)\n",
        "    \n",
        "    for k in range(kmin, kmax + 1):\n",
        "      # Fill in the indices to signal and that represent the convolution operation\n",
        "      result[n] += signal[?] * kernel[?]\n",
        "    \n",
        "  return result\n",
        "      \n",
        "g = convolution_1D(f, h)\n",
        "print(g)\n",
        "print(g.shape)"
      ],
      "execution_count": null,
      "outputs": []
    },
    {
      "cell_type": "markdown",
      "metadata": {
        "id": "ueZFpvpO7__v",
        "colab_type": "text"
      },
      "source": [
        "**We see that both the default mode and valid mode for convolution changes the size of the input signal array. Sometimes that's nice, but often we want the output signal to be the same size as the input signal. Perform the operation f∗h using numpy.convolve, with the mode argument as 'same'. Print its contents and shape.**"
      ]
    },
    {
      "cell_type": "code",
      "metadata": {
        "id": "G7tOqw21z_YN",
        "colab_type": "code",
        "colab": {}
      },
      "source": [
        ""
      ],
      "execution_count": 180,
      "outputs": []
    },
    {
      "cell_type": "markdown",
      "metadata": {
        "id": "GyHcJdoU9BKG",
        "colab_type": "text"
      },
      "source": [
        "### **Convolutions in 2D**"
      ]
    },
    {
      "cell_type": "markdown",
      "metadata": {
        "id": "sovgDIW49Hke",
        "colab_type": "text"
      },
      "source": [
        "**We've just seen convolution in 1D by implementing our own simple convolution function, and also used numpy's convolve function. Now we want to do the same with 2D convolution. Unfortunately numpy doesn't have a built-in function for 2D convolution, so we'll use scipy instead.**"
      ]
    },
    {
      "cell_type": "markdown",
      "metadata": {
        "id": "2u5JA70zBip1",
        "colab_type": "text"
      },
      "source": [
        "**Create a 5x5 2D array called image that is filled with ones with dtype=int. Create a 3x3 2D array called kernel that filled with ones with dtype=int. Print them.**"
      ]
    },
    {
      "cell_type": "code",
      "metadata": {
        "id": "12hwAyQxBzER",
        "colab_type": "code",
        "colab": {}
      },
      "source": [
        ""
      ],
      "execution_count": 180,
      "outputs": []
    },
    {
      "cell_type": "markdown",
      "metadata": {
        "id": "HL0F7GfICK-P",
        "colab_type": "text"
      },
      "source": [
        "**Now using scipy's convolve2d, perform a convolution between the image and the kernel above. Do so using the mode 'full', then 'valid', then 'same'. Print the resulting matrices and their respective shapes.**"
      ]
    },
    {
      "cell_type": "code",
      "metadata": {
        "id": "3x0dnuKGCWtJ",
        "colab_type": "code",
        "colab": {}
      },
      "source": [
        "from scipy import signal\n"
      ],
      "execution_count": 181,
      "outputs": []
    },
    {
      "cell_type": "markdown",
      "metadata": {
        "id": "33C_UI8UDM48",
        "colab_type": "text"
      },
      "source": [
        "**Observe that the shapes are all different due to the way we handle boundary conditions and padding. Why are the values outside of the central 3x3 grid less than 9?**"
      ]
    },
    {
      "cell_type": "markdown",
      "metadata": {
        "id": "eK-NPwEzDin6",
        "colab_type": "text"
      },
      "source": [
        ""
      ]
    },
    {
      "cell_type": "markdown",
      "metadata": {
        "id": "3JxptItMDjIU",
        "colab_type": "text"
      },
      "source": [
        "**We can also play around with what values we use for padding. Run the convolve2d operation again, this time with mode set as 'same' and fillvalue set as -1, and print out the result, observing the difference compared to when the fillvalue was the default 0.**"
      ]
    },
    {
      "cell_type": "code",
      "metadata": {
        "id": "kZR-iN3DD7n0",
        "colab_type": "code",
        "colab": {}
      },
      "source": [
        ""
      ],
      "execution_count": 181,
      "outputs": []
    },
    {
      "cell_type": "markdown",
      "metadata": {
        "id": "xLy6MDztEZWw",
        "colab_type": "text"
      },
      "source": [
        "**Using the same image and kernel, perform a convolve2d operation, this time with mode set as 'same' and boundary set as 'symm', and another convolve2d operation, this time with mode set as 'same' and fillvalue set as 1. Print the results.**"
      ]
    },
    {
      "cell_type": "code",
      "metadata": {
        "id": "kKlK3xq5EoyQ",
        "colab_type": "code",
        "colab": {}
      },
      "source": [
        ""
      ],
      "execution_count": 181,
      "outputs": []
    },
    {
      "cell_type": "markdown",
      "metadata": {
        "id": "nrrUoVeKEx3d",
        "colab_type": "text"
      },
      "source": [
        "**Why are the results the same?**"
      ]
    },
    {
      "cell_type": "markdown",
      "metadata": {
        "id": "K0pzM0LVE0xz",
        "colab_type": "text"
      },
      "source": [
        ""
      ]
    },
    {
      "cell_type": "markdown",
      "metadata": {
        "id": "Xu5FoH3sFjJb",
        "colab_type": "text"
      },
      "source": [
        "### **Smoothing Kernels in 2D**"
      ]
    },
    {
      "cell_type": "markdown",
      "metadata": {
        "id": "Zoe6vxI-FwoN",
        "colab_type": "text"
      },
      "source": [
        "**So why are convolutions used? A major application for convolutions is for image filtering, of which smoothing is quite common.**"
      ]
    },
    {
      "cell_type": "markdown",
      "metadata": {
        "id": "8klrnsMV9dl9",
        "colab_type": "text"
      },
      "source": [
        "**Let's first get an image we can play with. Similar to the first week's notebook, if you aren't able to access your webcam, or you are running on Colab, then you can instead place an image in your local directory with the name testimg.jpg.**"
      ]
    },
    {
      "cell_type": "code",
      "metadata": {
        "id": "08qidURB-YEc",
        "colab_type": "code",
        "colab": {}
      },
      "source": [
        "import cv2\n",
        "cap = cv2.VideoCapture(0)\n",
        "if not (cap.isOpened()):\n",
        "    print('Could not open video device')\n",
        "else:\n",
        "  ret, frame = cap.read()\n",
        "  cv2.imwrite('testim.jpg',frame)\n",
        "\n",
        "frame = cv2.imread('testim.jpg')\n",
        "plt.imshow(frame)\n",
        "print(frame.shape)"
      ],
      "execution_count": null,
      "outputs": []
    },
    {
      "cell_type": "markdown",
      "metadata": {
        "id": "c9bQPsQEImDs",
        "colab_type": "text"
      },
      "source": [
        "**Using cv2 we can resize the image so it's around 400 x 400, since convolution takes a little longer if the images are too big, and if the images are too small, it's hard to see the difference. We also grayscale the image.** "
      ]
    },
    {
      "cell_type": "code",
      "metadata": {
        "id": "8xwg-fOSIe5N",
        "colab_type": "code",
        "colab": {}
      },
      "source": [
        "def_width = 400\n",
        "def_height = (frame.shape[0] * def_width) // frame.shape[1]\n",
        "\n",
        "frame = cv2.resize(frame, dsize=(def_height, def_width), interpolation=cv2.INTER_CUBIC)\n",
        "gray_frame = cv2.cvtColor(frame, cv2.COLOR_BGR2GRAY)\n",
        "plt.imshow(gray_frame, cmap='gray')\n",
        "print(gray_frame.shape)"
      ],
      "execution_count": null,
      "outputs": []
    },
    {
      "cell_type": "markdown",
      "metadata": {
        "id": "8-HwbmJ8GS1g",
        "colab_type": "text"
      },
      "source": [
        "**We saw in class that one of the filters used is a box filter. Let's try and implement that. Create a 2d box filter of size 20 x 20. Convolve your grayscaled image with this box filter (from here on out we default to mode = 'same') and plot the results.**"
      ]
    },
    {
      "cell_type": "code",
      "metadata": {
        "id": "t5zSWihqGpZE",
        "colab_type": "code",
        "colab": {}
      },
      "source": [
        ""
      ],
      "execution_count": 181,
      "outputs": []
    },
    {
      "cell_type": "markdown",
      "metadata": {
        "id": "XMmVsVj4KJo9",
        "colab_type": "text"
      },
      "source": [
        "**Observe that indeed there is blurring, but also notice the boxy artifacts present because of the box filter. We talked about in lecture how a gaussian filter would not have these artifacts. Below is a simple function for creating a 2D gaussian kernel.** "
      ]
    },
    {
      "cell_type": "code",
      "metadata": {
        "id": "vRSez6Q1LIvS",
        "colab_type": "code",
        "colab": {}
      },
      "source": [
        "def gaussian_kern(kernel_size=21, sigma=3):\n",
        "    \"\"\"Returns a 2D Gaussian kernel.\"\"\"\n",
        "\n",
        "    gkern1d = signal.gaussian(kernel_size, std=sigma).reshape(kernel_size, 1)\n",
        "    gkern2d = np.outer(gkern1d, gkern1d)\n",
        "    return gkern2d\n",
        "\n",
        "plt.imshow(gaussian_kern())"
      ],
      "execution_count": null,
      "outputs": []
    },
    {
      "cell_type": "markdown",
      "metadata": {
        "id": "NU8M7PN9G2Zv",
        "colab_type": "text"
      },
      "source": [
        "**Using the above function, create a kernel of size 21 with sigma as 7, and then convolve that with your image. Plot the result**"
      ]
    },
    {
      "cell_type": "code",
      "metadata": {
        "id": "5SrqUziSLyNh",
        "colab_type": "code",
        "colab": {}
      },
      "source": [
        ""
      ],
      "execution_count": 181,
      "outputs": []
    },
    {
      "cell_type": "markdown",
      "metadata": {
        "id": "2IcEfIM5MLMw",
        "colab_type": "text"
      },
      "source": [
        "**Observe how there are no blocky artifacts seen in this filtered image, since we are using a gaussian kernel instead of a box filter. Play around by changing the gaussian kernel size, and also the sigma of the kernel. What does changing either of the values do?**"
      ]
    },
    {
      "cell_type": "markdown",
      "metadata": {
        "id": "jbCdECdcOmqK",
        "colab_type": "text"
      },
      "source": [
        ""
      ]
    },
    {
      "cell_type": "markdown",
      "metadata": {
        "id": "ov7iLsRXMcVZ",
        "colab_type": "text"
      },
      "source": [
        "**Note that gaussian filtering is a common enough operation that scipy already has an implementation of this. Using scipy.ndimage.gaussian_filter, perform filtering using sigma=7, and plot the resulting image.**"
      ]
    },
    {
      "cell_type": "code",
      "metadata": {
        "id": "z3kjxtCkMo0C",
        "colab_type": "code",
        "colab": {}
      },
      "source": [
        "from scipy.ndimage import gaussian_filter\n"
      ],
      "execution_count": 182,
      "outputs": []
    },
    {
      "cell_type": "markdown",
      "metadata": {
        "id": "0kwDcEr2kBvn",
        "colab_type": "text"
      },
      "source": [
        "**Something interesting about gaussian filtering is that because of the associativity property of convolutions, successive gaussian blurring operations are the same as a single, larger gaussian blur operation. The equation (which you could try and prove yourself) is $\\sigma=\\sqrt(\\sigma_1^2 + \\sigma_2^2)$**\n",
        "\n",
        "**Below, filter your grayscaled image via scipy's gaussian filter function in two different ways. For the first method, filter your image twice, the first time with a sigma=6, and then with a sigma=8. For the second method, filter the grayscaled image once, with sigma=10**\n",
        "\n",
        "**Compare the results by plt.imshow(first_method - second_method), followed by plt.colorbar() to confirm that the difference is insignificant.**"
      ]
    },
    {
      "cell_type": "code",
      "metadata": {
        "id": "RbibXWI3ULI1",
        "colab_type": "code",
        "colab": {}
      },
      "source": [
        ""
      ],
      "execution_count": 182,
      "outputs": []
    },
    {
      "cell_type": "markdown",
      "metadata": {
        "id": "Z7jE51bTOv1h",
        "colab_type": "text"
      },
      "source": [
        "### **Convolution Properties**"
      ]
    },
    {
      "cell_type": "markdown",
      "metadata": {
        "id": "4a67XjVaQX0V",
        "colab_type": "text"
      },
      "source": [
        "**Let's demonstrate numerically some properties of the convolution operation. Create:**\n",
        "\n",
        "*   f: 1D array of size 8 of random integers from 0 to 9 (inclusive)\n",
        "*   h: 1D array of size 8 of random integers from 0 to 9 (inclusive)\n",
        "*   g: 1D array of size 5 of random integers from 0 to 9 (inclusive)\n",
        "*   f2: 2D array of size 5x5 of random integers from 0 to 9 (inclusive)\n",
        "*   h2: 2D array\n",
        " of size 3x3 of random integers from 0 to 9 (inclusive)\n",
        "*   g2: 2D array of size 4x4 of random integers from 0 to 9 (inclusive)\n"
      ]
    },
    {
      "cell_type": "code",
      "metadata": {
        "id": "E7bbrMcrRHZF",
        "colab_type": "code",
        "colab": {}
      },
      "source": [
        ""
      ],
      "execution_count": 182,
      "outputs": []
    },
    {
      "cell_type": "markdown",
      "metadata": {
        "id": "W49Y2XvVRXsM",
        "colab_type": "text"
      },
      "source": [
        "**First we want to show numerically that the convolution operation is commutative. Use numpy.convolve to perform the operation f∗h, and the operation h∗f. Print both results. Use np.all to make sure that all values are identical.**"
      ]
    },
    {
      "cell_type": "code",
      "metadata": {
        "id": "sM--YX-sRmGp",
        "colab_type": "code",
        "colab": {}
      },
      "source": [
        ""
      ],
      "execution_count": 182,
      "outputs": []
    },
    {
      "cell_type": "markdown",
      "metadata": {
        "id": "cNLJ2Z7jRtND",
        "colab_type": "text"
      },
      "source": [
        "**We can also show numerically that the convolution operation is associative. Use numpy.convolve to perform the operation f∗h∗g in two different ways. For the first way, first do h∗g, then convolve the result of that with f. For the second way, first do f∗h, then convolve the result of that with g. Print both results, and use np.all to make sure that all values are identical.**"
      ]
    },
    {
      "cell_type": "code",
      "metadata": {
        "id": "28FY5bc5S6an",
        "colab_type": "code",
        "colab": {}
      },
      "source": [
        ""
      ],
      "execution_count": 182,
      "outputs": []
    },
    {
      "cell_type": "markdown",
      "metadata": {
        "id": "4KhMukTxTNlk",
        "colab_type": "text"
      },
      "source": [
        "**We see that the results are identical, thereby showing that convolutions are commutative and associative. Prove numerically the same thing in 2D, using the f2, h2, and g2 formed previously, and scipy's convolve2d function.**"
      ]
    },
    {
      "cell_type": "code",
      "metadata": {
        "id": "50hnzNEkTdEi",
        "colab_type": "code",
        "colab": {}
      },
      "source": [
        ""
      ],
      "execution_count": 182,
      "outputs": []
    },
    {
      "cell_type": "markdown",
      "metadata": {
        "id": "0y9xAwV1mCD_",
        "colab_type": "text"
      },
      "source": [
        "**We saw in class that convolutions can be computed by reversing the kernel, and sliding it over the signal and taking the dot product at all locations. Though this is simple to implement and understand, it is slow for larger arrays.**\n",
        "\n",
        "**What we can use is the Fast Fourier Transform to compute the convolution. One of the most important properties to know is that convolution in the time domain is multiplication in the frequency domain. Since multiplication can be done much faster than convolution, we can perform a convolution by moving the signal and kernel to the frequency domain, multiplying them, and then moving them back to the time domain.**"
      ]
    },
    {
      "cell_type": "markdown",
      "metadata": {
        "id": "JdWvpPj4mrXq",
        "colab_type": "text"
      },
      "source": [
        "**Though this would be cool to implement, this is outside the scope of the class, so instead we'll use scipy's fftconvolve to show how much faster it is.**\n",
        "\n",
        "**Create a 1D array of length 1,000,000 of random numbers, and a kernel of size 10,000 also of random numbers. Convolve them using signal.convolve with method='direct'**"
      ]
    },
    {
      "cell_type": "code",
      "metadata": {
        "id": "9kw4eiW-pG4x",
        "colab_type": "code",
        "colab": {}
      },
      "source": [
        "from scipy import signal\n",
        "import time\n",
        "\n",
        "\n",
        "start = time.time()\n",
        "# Do the convolution here\n",
        "\n",
        "print(\"This took \", time.time() - start, \" seconds\")"
      ],
      "execution_count": null,
      "outputs": []
    },
    {
      "cell_type": "markdown",
      "metadata": {
        "id": "bEm6Ax0Bpkap",
        "colab_type": "text"
      },
      "source": [
        "**Notice the amount of time that took. If it didn't take long, increase the size of the arrays so that it takes a couple of seconds. Now repeat it with method='fft'**"
      ]
    },
    {
      "cell_type": "code",
      "metadata": {
        "id": "SkRp9H5bppd2",
        "colab_type": "code",
        "colab": {}
      },
      "source": [
        "start = time.time()\n",
        "# Do the convolution here:\n",
        "\n",
        "print(\"This took \", time.time() - start, \" seconds\")"
      ],
      "execution_count": null,
      "outputs": []
    },
    {
      "cell_type": "markdown",
      "metadata": {
        "id": "xEaYdiO2pszK",
        "colab_type": "text"
      },
      "source": [
        "**Notice how much faster it was using FFT to perform the convolution. Besides explicitly setting the method to 'fft', scipy also has scipy.signal.fftconvolve that defaults to using FFT.**"
      ]
    },
    {
      "cell_type": "markdown",
      "metadata": {
        "id": "4F1E8CUUsi5S",
        "colab_type": "text"
      },
      "source": [
        "### **Median Filtering**"
      ]
    },
    {
      "cell_type": "markdown",
      "metadata": {
        "id": "Y8ni4vm2sl3L",
        "colab_type": "text"
      },
      "source": [
        "**Instead of doing an averaging using a gaussian or box filter, another type of filtering called median filtering exists. It's useful for removing salt and pepper noise in images, which gaussian blurring isn't quite able to remove.**"
      ]
    },
    {
      "cell_type": "markdown",
      "metadata": {
        "id": "5dZJGC-Bs0D8",
        "colab_type": "text"
      },
      "source": [
        "**Let's create an image with some salt and pepper noise. Create a 2D array of zeros of size 50 by 50. Set around 5% of the pixels randomly to be 255 in value. Plot it.**"
      ]
    },
    {
      "cell_type": "code",
      "metadata": {
        "id": "7zwfGQ_lszbB",
        "colab_type": "code",
        "colab": {}
      },
      "source": [
        "import random\n"
      ],
      "execution_count": 185,
      "outputs": []
    },
    {
      "cell_type": "markdown",
      "metadata": {
        "id": "JjR0GwDPuHbq",
        "colab_type": "text"
      },
      "source": [
        "**Now try and remove the noise via gaussian blurring. Try a variety of sigmas to see whether the noise can be removed**"
      ]
    },
    {
      "cell_type": "code",
      "metadata": {
        "id": "_sQU4N-vuGVF",
        "colab_type": "code",
        "colab": {}
      },
      "source": [
        ""
      ],
      "execution_count": 185,
      "outputs": []
    },
    {
      "cell_type": "markdown",
      "metadata": {
        "id": "TJlHO22GvhSU",
        "colab_type": "text"
      },
      "source": [
        "**Now, try use median filtering. Scipy.ndimage has a nice implementation for you to use. Plot the results.**"
      ]
    },
    {
      "cell_type": "code",
      "metadata": {
        "id": "IiUsgGV1tZV1",
        "colab_type": "code",
        "colab": {}
      },
      "source": [
        "from scipy.ndimage import median_filter\n"
      ],
      "execution_count": 186,
      "outputs": []
    },
    {
      "cell_type": "markdown",
      "metadata": {
        "id": "O03tU-21v-76",
        "colab_type": "text"
      },
      "source": [
        "**Feel free to play around with the noise level and the median filter size to see what the relationship is.**"
      ]
    },
    {
      "cell_type": "markdown",
      "metadata": {
        "id": "o8G2dHUin9v1",
        "colab_type": "text"
      },
      "source": [
        ""
      ]
    }
  ]
}